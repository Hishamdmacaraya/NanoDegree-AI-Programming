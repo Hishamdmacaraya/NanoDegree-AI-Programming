{
 "cells": [
  {
   "cell_type": "code",
   "execution_count": 4,
   "metadata": {},
   "outputs": [],
   "source": [
    "class Car:\n",
    "    def __init__(self, color, model, year):\n",
    "        self.color = color\n",
    "        self.model = model\n",
    "        self.year = year\n",
    "    \n",
    "    def start_engine(self):\n",
    "        print(\"Engine started.\")\n",
    "    \n",
    "    def drive(self, distance):\n",
    "        print(f\"The {self.model} is driving {distance} miles.\")\n",
    "    \n",
    "    def stop_engine(self):\n",
    "        print(\"Engine stopped.\")\n",
    "\n"
   ]
  },
  {
   "cell_type": "code",
   "execution_count": 5,
   "metadata": {},
   "outputs": [
    {
     "name": "stdout",
     "output_type": "stream",
     "text": [
      "<class '__main__.Car'>\n"
     ]
    }
   ],
   "source": [
    "print(Car)"
   ]
  },
  {
   "cell_type": "code",
   "execution_count": 1,
   "metadata": {},
   "outputs": [],
   "source": [
    "import numpy as np"
   ]
  },
  {
   "cell_type": "code",
   "execution_count": 2,
   "metadata": {},
   "outputs": [],
   "source": [
    "array = np.random.random((100,6))\n",
    "\n",
    "#array\n",
    "\n",
    "#create a new array where: select all rows from the 2nd column from the above array"
   ]
  },
  {
   "cell_type": "code",
   "execution_count": 3,
   "metadata": {},
   "outputs": [
    {
     "data": {
      "text/plain": [
       "array([[0.60081408, 0.4074434 , 0.41740476, 0.93935832, 0.99240911,\n",
       "        0.15176577],\n",
       "       [0.17367261, 0.56296859, 0.43527969, 0.15793559, 0.5553216 ,\n",
       "        0.89758101],\n",
       "       [0.32487488, 0.76667409, 0.91265238, 0.85072777, 0.0172226 ,\n",
       "        0.88558667],\n",
       "       [0.29415318, 0.54318049, 0.70094913, 0.41296942, 0.6973248 ,\n",
       "        0.48783763],\n",
       "       [0.954982  , 0.53732221, 0.05400811, 0.06596126, 0.57120154,\n",
       "        0.27581794],\n",
       "       [0.28417604, 0.16187078, 0.0829414 , 0.02291802, 0.21230575,\n",
       "        0.13397704],\n",
       "       [0.61700961, 0.38706494, 0.20119234, 0.44635986, 0.54559838,\n",
       "        0.76639913],\n",
       "       [0.98013879, 0.90282135, 0.85586254, 0.03224175, 0.21086016,\n",
       "        0.00913908],\n",
       "       [0.99764239, 0.24959086, 0.84784935, 0.71262009, 0.25805155,\n",
       "        0.19815043],\n",
       "       [0.78660376, 0.2975704 , 0.62168739, 0.84367077, 0.52716673,\n",
       "        0.34851023],\n",
       "       [0.02771863, 0.25584816, 0.47354215, 0.77527829, 0.97995278,\n",
       "        0.14105698],\n",
       "       [0.99647507, 0.06929305, 0.75932338, 0.28133946, 0.30904462,\n",
       "        0.78117974],\n",
       "       [0.89958833, 0.59215016, 0.83874962, 0.26987766, 0.16017653,\n",
       "        0.49564895],\n",
       "       [0.92519204, 0.48170058, 0.95995105, 0.24787911, 0.13161888,\n",
       "        0.03779064],\n",
       "       [0.51156935, 0.96736578, 0.71316776, 0.95966008, 0.58115234,\n",
       "        0.09826466],\n",
       "       [0.46951561, 0.77751459, 0.96541371, 0.4773738 , 0.49306334,\n",
       "        0.28541447],\n",
       "       [0.57623024, 0.78341548, 0.92434753, 0.46934522, 0.92199851,\n",
       "        0.53538658],\n",
       "       [0.56675799, 0.5674062 , 0.98601876, 0.26128967, 0.58078186,\n",
       "        0.20989896],\n",
       "       [0.2355282 , 0.83117608, 0.44375126, 0.00849725, 0.81588283,\n",
       "        0.22419349],\n",
       "       [0.28614874, 0.35448634, 0.92059116, 0.2297857 , 0.63461758,\n",
       "        0.15127644],\n",
       "       [0.24347973, 0.0119589 , 0.3336741 , 0.37521581, 0.62337384,\n",
       "        0.55757033],\n",
       "       [0.61765005, 0.73334981, 0.78987914, 0.64257812, 0.95249832,\n",
       "        0.31732384],\n",
       "       [0.95956687, 0.19835727, 0.64372279, 0.58708623, 0.31079114,\n",
       "        0.17167608],\n",
       "       [0.16616275, 0.90211619, 0.89577116, 0.73036176, 0.15428573,\n",
       "        0.47759331],\n",
       "       [0.98397822, 0.31626817, 0.93261752, 0.90534627, 0.74688021,\n",
       "        0.24820494],\n",
       "       [0.45819819, 0.23450219, 0.0408119 , 0.21344637, 0.64760786,\n",
       "        0.50213211],\n",
       "       [0.64659001, 0.26170082, 0.9498163 , 0.72769662, 0.75070493,\n",
       "        0.13224611],\n",
       "       [0.03662585, 0.5916073 , 0.39905031, 0.09031231, 0.39503542,\n",
       "        0.55816847],\n",
       "       [0.15214709, 0.37524718, 0.04135445, 0.3866774 , 0.23021064,\n",
       "        0.77815667],\n",
       "       [0.03635918, 0.03650127, 0.70787484, 0.5484924 , 0.21701427,\n",
       "        0.53883908],\n",
       "       [0.0258258 , 0.78215907, 0.24357717, 0.28306398, 0.51993188,\n",
       "        0.50166835],\n",
       "       [0.76251043, 0.6246595 , 0.9507157 , 0.82035399, 0.07102113,\n",
       "        0.51821468],\n",
       "       [0.12382176, 0.66975807, 0.71919265, 0.17088206, 0.31062549,\n",
       "        0.08053681],\n",
       "       [0.40811011, 0.08491842, 0.84309703, 0.02032176, 0.74619699,\n",
       "        0.16138304],\n",
       "       [0.20997039, 0.21071281, 0.59445537, 0.09480015, 0.56952481,\n",
       "        0.74788028],\n",
       "       [0.49362416, 0.10866445, 0.56743009, 0.07894743, 0.22388504,\n",
       "        0.24593128],\n",
       "       [0.74612926, 0.06506244, 0.90219583, 0.88479582, 0.18659938,\n",
       "        0.90008685],\n",
       "       [0.08551845, 0.37030375, 0.70593719, 0.41969074, 0.45579968,\n",
       "        0.21065194],\n",
       "       [0.9704316 , 0.19231723, 0.67800567, 0.32275288, 0.99394774,\n",
       "        0.4661481 ],\n",
       "       [0.53157272, 0.43090769, 0.22720922, 0.22092687, 0.73433219,\n",
       "        0.23967931],\n",
       "       [0.84158931, 0.03320156, 0.59800589, 0.20879063, 0.54443166,\n",
       "        0.88140652],\n",
       "       [0.38917048, 0.39833011, 0.35886047, 0.79865982, 0.8881046 ,\n",
       "        0.59572401],\n",
       "       [0.36127041, 0.23179448, 0.07487283, 0.26356375, 0.27474541,\n",
       "        0.1793579 ],\n",
       "       [0.03280379, 0.30453009, 0.49260321, 0.38864235, 0.70527084,\n",
       "        0.82243517],\n",
       "       [0.44476502, 0.187437  , 0.88754449, 0.91420843, 0.25345903,\n",
       "        0.28980261],\n",
       "       [0.93086964, 0.2255184 , 0.37568953, 0.05307964, 0.9432002 ,\n",
       "        0.11494436],\n",
       "       [0.29419468, 0.58429128, 0.15037962, 0.14421866, 0.03917802,\n",
       "        0.59669078],\n",
       "       [0.08285004, 0.77107516, 0.42255507, 0.84064632, 0.15146677,\n",
       "        0.52111622],\n",
       "       [0.66809534, 0.19736373, 0.69880632, 0.59923383, 0.93304223,\n",
       "        0.74774787],\n",
       "       [0.28049691, 0.1225001 , 0.12191453, 0.58250993, 0.699264  ,\n",
       "        0.36643253],\n",
       "       [0.76008085, 0.40944435, 0.40553305, 0.61568002, 0.33865222,\n",
       "        0.03160181],\n",
       "       [0.0729393 , 0.10254288, 0.64906101, 0.37318573, 0.77103928,\n",
       "        0.01385578],\n",
       "       [0.54772087, 0.55801924, 0.60990577, 0.08865338, 0.90174181,\n",
       "        0.28698171],\n",
       "       [0.69891648, 0.56153353, 0.36489813, 0.87303894, 0.0320461 ,\n",
       "        0.09598957],\n",
       "       [0.4216826 , 0.25193309, 0.08479734, 0.02384331, 0.58913658,\n",
       "        0.65794376],\n",
       "       [0.80796707, 0.86324533, 0.31551696, 0.52289337, 0.15540918,\n",
       "        0.69126586],\n",
       "       [0.54914874, 0.69730978, 0.05090307, 0.54536965, 0.97624516,\n",
       "        0.20505422],\n",
       "       [0.05769913, 0.86384838, 0.57347276, 0.06308869, 0.68913817,\n",
       "        0.33126726],\n",
       "       [0.66503662, 0.11728538, 0.01765844, 0.31948683, 0.51696532,\n",
       "        0.77437561],\n",
       "       [0.30464832, 0.6984638 , 0.65670155, 0.28657338, 0.39645692,\n",
       "        0.1667932 ],\n",
       "       [0.37301836, 0.61061597, 0.05671345, 0.52050379, 0.07762547,\n",
       "        0.44504909],\n",
       "       [0.8804268 , 0.10794889, 0.00713898, 0.00986367, 0.01350831,\n",
       "        0.31655597],\n",
       "       [0.61122154, 0.1822142 , 0.42974621, 0.71444325, 0.13116991,\n",
       "        0.88993406],\n",
       "       [0.52684994, 0.6979293 , 0.83146185, 0.59947679, 0.10985763,\n",
       "        0.60612991],\n",
       "       [0.01965687, 0.81211388, 0.21767716, 0.3507947 , 0.21718056,\n",
       "        0.19855147],\n",
       "       [0.87438984, 0.12428245, 0.28435726, 0.78070018, 0.56707379,\n",
       "        0.56065671],\n",
       "       [0.11477679, 0.10045381, 0.04738095, 0.78296936, 0.43094054,\n",
       "        0.65919856],\n",
       "       [0.73894719, 0.61480912, 0.64140302, 0.80393496, 0.93813059,\n",
       "        0.94488522],\n",
       "       [0.83420145, 0.88779609, 0.14084997, 0.03983091, 0.60270289,\n",
       "        0.43224003],\n",
       "       [0.41480567, 0.14954052, 0.47294385, 0.06767459, 0.89487414,\n",
       "        0.90386242],\n",
       "       [0.07804281, 0.69480083, 0.37903643, 0.01250864, 0.78496751,\n",
       "        0.40936917],\n",
       "       [0.61425317, 0.18713677, 0.60107609, 0.90348013, 0.6613394 ,\n",
       "        0.03122985],\n",
       "       [0.4154529 , 0.34799626, 0.88383248, 0.99887283, 0.28833816,\n",
       "        0.1834941 ],\n",
       "       [0.92854355, 0.90630358, 0.9377163 , 0.64000226, 0.49106711,\n",
       "        0.98766995],\n",
       "       [0.4919469 , 0.54557621, 0.7330708 , 0.47831569, 0.86860798,\n",
       "        0.8358603 ],\n",
       "       [0.75829852, 0.3522055 , 0.44805411, 0.89118164, 0.96973362,\n",
       "        0.74031336],\n",
       "       [0.06023733, 0.42349127, 0.66173026, 0.01040013, 0.15709385,\n",
       "        0.9929694 ],\n",
       "       [0.87114303, 0.4834731 , 0.15068337, 0.18613886, 0.62939509,\n",
       "        0.71405614],\n",
       "       [0.52714972, 0.02758377, 0.40697136, 0.32914565, 0.4330368 ,\n",
       "        0.37205485],\n",
       "       [0.32025657, 0.84719808, 0.58217389, 0.31124216, 0.79633742,\n",
       "        0.32387876],\n",
       "       [0.79347029, 0.68590874, 0.54742583, 0.09450257, 0.21807153,\n",
       "        0.08518079],\n",
       "       [0.91213148, 0.27418687, 0.95255661, 0.11000584, 0.09128569,\n",
       "        0.37557877],\n",
       "       [0.96697002, 0.48313948, 0.59480893, 0.0871138 , 0.41719588,\n",
       "        0.70037643],\n",
       "       [0.64901204, 0.56970428, 0.24515421, 0.15726736, 0.36952248,\n",
       "        0.70861375],\n",
       "       [0.88912356, 0.59840649, 0.08091408, 0.14793062, 0.96078861,\n",
       "        0.91984389],\n",
       "       [0.92674391, 0.40317214, 0.51530909, 0.31916793, 0.05744919,\n",
       "        0.63615557],\n",
       "       [0.4203011 , 0.82143185, 0.83289248, 0.13869764, 0.65852806,\n",
       "        0.89917074],\n",
       "       [0.41605255, 0.32664102, 0.79806995, 0.72664636, 0.96380357,\n",
       "        0.12578198],\n",
       "       [0.01585349, 0.87227456, 0.55134278, 0.36390177, 0.81092919,\n",
       "        0.83137344],\n",
       "       [0.23223905, 0.23631066, 0.38451097, 0.73678411, 0.40906011,\n",
       "        0.9598541 ],\n",
       "       [0.15788285, 0.42589618, 0.91349286, 0.86014651, 0.09680768,\n",
       "        0.12557088],\n",
       "       [0.47560347, 0.7371191 , 0.50190102, 0.97397064, 0.10693913,\n",
       "        0.63722501],\n",
       "       [0.49759071, 0.68633842, 0.61023927, 0.39083476, 0.27707033,\n",
       "        0.02693611],\n",
       "       [0.15211328, 0.41037504, 0.03901559, 0.22968093, 0.04358672,\n",
       "        0.07680838],\n",
       "       [0.7745458 , 0.49589624, 0.20569004, 0.51216831, 0.88275646,\n",
       "        0.74892828],\n",
       "       [0.70798655, 0.67449629, 0.40164146, 0.47947615, 0.0960834 ,\n",
       "        0.65488542],\n",
       "       [0.31245029, 0.40753282, 0.9649894 , 0.33236923, 0.15291137,\n",
       "        0.1538378 ],\n",
       "       [0.36071788, 0.18247109, 0.47185513, 0.09862621, 0.83271015,\n",
       "        0.11930415],\n",
       "       [0.97834319, 0.56952517, 0.1160155 , 0.42122478, 0.62723979,\n",
       "        0.16068218],\n",
       "       [0.44004569, 0.12064534, 0.70148971, 0.34946854, 0.7009816 ,\n",
       "        0.39358043]])"
      ]
     },
     "execution_count": 3,
     "metadata": {},
     "output_type": "execute_result"
    }
   ],
   "source": [
    "array"
   ]
  },
  {
   "cell_type": "code",
   "execution_count": 4,
   "metadata": {},
   "outputs": [],
   "source": [
    "column2_array = array[:,1]\n"
   ]
  },
  {
   "cell_type": "code",
   "execution_count": 11,
   "metadata": {},
   "outputs": [
    {
     "data": {
      "text/plain": [
       "array([0.4074434 , 0.56296859, 0.76667409, 0.54318049, 0.53732221,\n",
       "       0.16187078, 0.38706494, 0.90282135, 0.24959086, 0.2975704 ,\n",
       "       0.25584816, 0.06929305, 0.59215016, 0.48170058, 0.96736578,\n",
       "       0.77751459, 0.78341548, 0.5674062 , 0.83117608, 0.35448634,\n",
       "       0.0119589 , 0.73334981, 0.19835727, 0.90211619, 0.31626817,\n",
       "       0.23450219, 0.26170082, 0.5916073 , 0.37524718, 0.03650127,\n",
       "       0.78215907, 0.6246595 , 0.66975807, 0.08491842, 0.21071281,\n",
       "       0.10866445, 0.06506244, 0.37030375, 0.19231723, 0.43090769,\n",
       "       0.03320156, 0.39833011, 0.23179448, 0.30453009, 0.187437  ,\n",
       "       0.2255184 , 0.58429128, 0.77107516, 0.19736373, 0.1225001 ,\n",
       "       0.40944435, 0.10254288, 0.55801924, 0.56153353, 0.25193309,\n",
       "       0.86324533, 0.69730978, 0.86384838, 0.11728538, 0.6984638 ,\n",
       "       0.61061597, 0.10794889, 0.1822142 , 0.6979293 , 0.81211388,\n",
       "       0.12428245, 0.10045381, 0.61480912, 0.88779609, 0.14954052,\n",
       "       0.69480083, 0.18713677, 0.34799626, 0.90630358, 0.54557621,\n",
       "       0.3522055 , 0.42349127, 0.4834731 , 0.02758377, 0.84719808,\n",
       "       0.68590874, 0.27418687, 0.48313948, 0.56970428, 0.59840649,\n",
       "       0.40317214, 0.82143185, 0.32664102, 0.87227456, 0.23631066,\n",
       "       0.42589618, 0.7371191 , 0.68633842, 0.41037504, 0.49589624,\n",
       "       0.67449629, 0.40753282, 0.18247109, 0.56952517, 0.12064534])"
      ]
     },
     "execution_count": 11,
     "metadata": {},
     "output_type": "execute_result"
    }
   ],
   "source": [
    "column2_array"
   ]
  },
  {
   "cell_type": "code",
   "execution_count": 13,
   "metadata": {},
   "outputs": [
    {
     "ename": "IndexError",
     "evalue": "too many indices for array: array is 1-dimensional, but 2 were indexed",
     "output_type": "error",
     "traceback": [
      "\u001b[1;31m---------------------------------------------------------------------------\u001b[0m",
      "\u001b[1;31mIndexError\u001b[0m                                Traceback (most recent call last)",
      "Cell \u001b[1;32mIn[13], line 3\u001b[0m\n\u001b[0;32m      1\u001b[0m \u001b[39m#select all rows from the 5th column from the above array\u001b[39;00m\n\u001b[1;32m----> 3\u001b[0m column5_array \u001b[39m=\u001b[39m column2_array[:,\u001b[39m4\u001b[39;49m]\n",
      "\u001b[1;31mIndexError\u001b[0m: too many indices for array: array is 1-dimensional, but 2 were indexed"
     ]
    }
   ],
   "source": [
    "#select all rows from the 5th column from the above array\n",
    "\n",
    "column5_array = column2_array[:,4]\n"
   ]
  },
  {
   "cell_type": "code",
   "execution_count": 7,
   "metadata": {},
   "outputs": [
    {
     "data": {
      "text/plain": [
       "array([[0.99240911, 0.15176577],\n",
       "       [0.5553216 , 0.89758101],\n",
       "       [0.0172226 , 0.88558667],\n",
       "       [0.6973248 , 0.48783763],\n",
       "       [0.57120154, 0.27581794],\n",
       "       [0.21230575, 0.13397704],\n",
       "       [0.54559838, 0.76639913],\n",
       "       [0.21086016, 0.00913908],\n",
       "       [0.25805155, 0.19815043],\n",
       "       [0.52716673, 0.34851023],\n",
       "       [0.97995278, 0.14105698],\n",
       "       [0.30904462, 0.78117974],\n",
       "       [0.16017653, 0.49564895],\n",
       "       [0.13161888, 0.03779064],\n",
       "       [0.58115234, 0.09826466],\n",
       "       [0.49306334, 0.28541447],\n",
       "       [0.92199851, 0.53538658],\n",
       "       [0.58078186, 0.20989896],\n",
       "       [0.81588283, 0.22419349],\n",
       "       [0.63461758, 0.15127644],\n",
       "       [0.62337384, 0.55757033],\n",
       "       [0.95249832, 0.31732384],\n",
       "       [0.31079114, 0.17167608],\n",
       "       [0.15428573, 0.47759331],\n",
       "       [0.74688021, 0.24820494],\n",
       "       [0.64760786, 0.50213211],\n",
       "       [0.75070493, 0.13224611],\n",
       "       [0.39503542, 0.55816847],\n",
       "       [0.23021064, 0.77815667],\n",
       "       [0.21701427, 0.53883908],\n",
       "       [0.51993188, 0.50166835],\n",
       "       [0.07102113, 0.51821468],\n",
       "       [0.31062549, 0.08053681],\n",
       "       [0.74619699, 0.16138304],\n",
       "       [0.56952481, 0.74788028],\n",
       "       [0.22388504, 0.24593128],\n",
       "       [0.18659938, 0.90008685],\n",
       "       [0.45579968, 0.21065194],\n",
       "       [0.99394774, 0.4661481 ],\n",
       "       [0.73433219, 0.23967931],\n",
       "       [0.54443166, 0.88140652],\n",
       "       [0.8881046 , 0.59572401],\n",
       "       [0.27474541, 0.1793579 ],\n",
       "       [0.70527084, 0.82243517],\n",
       "       [0.25345903, 0.28980261],\n",
       "       [0.9432002 , 0.11494436],\n",
       "       [0.03917802, 0.59669078],\n",
       "       [0.15146677, 0.52111622],\n",
       "       [0.93304223, 0.74774787],\n",
       "       [0.699264  , 0.36643253],\n",
       "       [0.33865222, 0.03160181],\n",
       "       [0.77103928, 0.01385578],\n",
       "       [0.90174181, 0.28698171],\n",
       "       [0.0320461 , 0.09598957],\n",
       "       [0.58913658, 0.65794376],\n",
       "       [0.15540918, 0.69126586],\n",
       "       [0.97624516, 0.20505422],\n",
       "       [0.68913817, 0.33126726],\n",
       "       [0.51696532, 0.77437561],\n",
       "       [0.39645692, 0.1667932 ],\n",
       "       [0.07762547, 0.44504909],\n",
       "       [0.01350831, 0.31655597],\n",
       "       [0.13116991, 0.88993406],\n",
       "       [0.10985763, 0.60612991],\n",
       "       [0.21718056, 0.19855147],\n",
       "       [0.56707379, 0.56065671],\n",
       "       [0.43094054, 0.65919856],\n",
       "       [0.93813059, 0.94488522],\n",
       "       [0.60270289, 0.43224003],\n",
       "       [0.89487414, 0.90386242],\n",
       "       [0.78496751, 0.40936917],\n",
       "       [0.6613394 , 0.03122985],\n",
       "       [0.28833816, 0.1834941 ],\n",
       "       [0.49106711, 0.98766995],\n",
       "       [0.86860798, 0.8358603 ],\n",
       "       [0.96973362, 0.74031336],\n",
       "       [0.15709385, 0.9929694 ],\n",
       "       [0.62939509, 0.71405614],\n",
       "       [0.4330368 , 0.37205485],\n",
       "       [0.79633742, 0.32387876],\n",
       "       [0.21807153, 0.08518079],\n",
       "       [0.09128569, 0.37557877],\n",
       "       [0.41719588, 0.70037643],\n",
       "       [0.36952248, 0.70861375],\n",
       "       [0.96078861, 0.91984389],\n",
       "       [0.05744919, 0.63615557],\n",
       "       [0.65852806, 0.89917074],\n",
       "       [0.96380357, 0.12578198],\n",
       "       [0.81092919, 0.83137344],\n",
       "       [0.40906011, 0.9598541 ],\n",
       "       [0.09680768, 0.12557088],\n",
       "       [0.10693913, 0.63722501],\n",
       "       [0.27707033, 0.02693611],\n",
       "       [0.04358672, 0.07680838],\n",
       "       [0.88275646, 0.74892828],\n",
       "       [0.0960834 , 0.65488542],\n",
       "       [0.15291137, 0.1538378 ],\n",
       "       [0.83271015, 0.11930415],\n",
       "       [0.62723979, 0.16068218],\n",
       "       [0.7009816 , 0.39358043]])"
      ]
     },
     "execution_count": 7,
     "metadata": {},
     "output_type": "execute_result"
    }
   ],
   "source": [
    "column5_array"
   ]
  },
  {
   "cell_type": "code",
   "execution_count": 14,
   "metadata": {},
   "outputs": [],
   "source": [
    "#select 5 elements starting with the element in the 10th ID from array\n",
    "\n",
    "five_elements = array[10:15]\n"
   ]
  },
  {
   "cell_type": "code",
   "execution_count": 15,
   "metadata": {},
   "outputs": [
    {
     "data": {
      "text/plain": [
       "array([[0.02771863, 0.25584816, 0.47354215, 0.77527829, 0.97995278,\n",
       "        0.14105698],\n",
       "       [0.99647507, 0.06929305, 0.75932338, 0.28133946, 0.30904462,\n",
       "        0.78117974],\n",
       "       [0.89958833, 0.59215016, 0.83874962, 0.26987766, 0.16017653,\n",
       "        0.49564895],\n",
       "       [0.92519204, 0.48170058, 0.95995105, 0.24787911, 0.13161888,\n",
       "        0.03779064],\n",
       "       [0.51156935, 0.96736578, 0.71316776, 0.95966008, 0.58115234,\n",
       "        0.09826466]])"
      ]
     },
     "execution_count": 15,
     "metadata": {},
     "output_type": "execute_result"
    }
   ],
   "source": [
    "five_elements\n"
   ]
  },
  {
   "cell_type": "code",
   "execution_count": null,
   "metadata": {},
   "outputs": [],
   "source": [
    "#create an array from #1 that contains the first rows 50-100 inclusive, but even rows only.\n",
    "\n",
    "even_rows = array[50:101:2]"
   ]
  },
  {
   "cell_type": "code",
   "execution_count": 16,
   "metadata": {},
   "outputs": [],
   "source": [
    "set_seed = 42\n",
    "\n",
    "tree_ID = np.random.randint(0,100,size = (50,10))\n",
    "\n",
    "block_ID = np.random.randint(0,100,size = (50,10))\n",
    "\n",
    "tree_diameter = np.random.random((50,10))\n",
    "\n",
    "stump_diameter = np.random.random((50,10))\n",
    "\n",
    "tree_data = np.array([[tree_ID],[block_ID],[tree_diameter],[stump_diameter]])\n"
   ]
  },
  {
   "cell_type": "code",
   "execution_count": 26,
   "metadata": {},
   "outputs": [
    {
     "data": {
      "text/plain": [
       "array([], shape=(0, 4, 1, 50, 10), dtype=float64)"
      ]
     },
     "execution_count": 26,
     "metadata": {},
     "output_type": "execute_result"
    }
   ],
   "source": [
    "#create an array which contains row data of tree Diameter of 65 of the tree data\n",
    "\n",
    "tree_diameter_65 = tree_data[2 == 65]\n",
    "tree_diameter_65"
   ]
  },
  {
   "cell_type": "code",
   "execution_count": 27,
   "metadata": {},
   "outputs": [
    {
     "ename": "IndexError",
     "evalue": "index 2 is out of bounds for axis 1 with size 1",
     "output_type": "error",
     "traceback": [
      "\u001b[1;31m---------------------------------------------------------------------------\u001b[0m",
      "\u001b[1;31mIndexError\u001b[0m                                Traceback (most recent call last)",
      "Cell \u001b[1;32mIn[27], line 1\u001b[0m\n\u001b[1;32m----> 1\u001b[0m b \u001b[39m=\u001b[39m tree_data[(tree_data[:,\u001b[39m2\u001b[39;49m]\u001b[39m>\u001b[39m\u001b[39m65\u001b[39m)]\n\u001b[0;32m      3\u001b[0m b\n",
      "\u001b[1;31mIndexError\u001b[0m: index 2 is out of bounds for axis 1 with size 1"
     ]
    }
   ],
   "source": [
    "b = tree_data[(tree_data[:,2]>65)]\n",
    "\n",
    "b"
   ]
  },
  {
   "cell_type": "code",
   "execution_count": 32,
   "metadata": {},
   "outputs": [
    {
     "ename": "SyntaxError",
     "evalue": "invalid syntax (1059183171.py, line 2)",
     "output_type": "error",
     "traceback": [
      "\u001b[1;36m  Cell \u001b[1;32mIn[32], line 2\u001b[1;36m\u001b[0m\n\u001b[1;33m    trunk_stump_diameters = tree_data[(if tree_data[:,2]==0: tree_data[:,2] = tree_data[:,3])]\u001b[0m\n\u001b[1;37m                                       ^\u001b[0m\n\u001b[1;31mSyntaxError\u001b[0m\u001b[1;31m:\u001b[0m invalid syntax\n"
     ]
    }
   ],
   "source": [
    "# Create and print a 1D array called trunk_stump_diameters, which replaces a tree's trunk diameter with its stump diameter if the trunk diameter is zero.\n",
    "trunk_stump_diameters = np.where(tree_data[:,2] == 0, tree_data[:,3], tree_data[:,2])"
   ]
  },
  {
   "cell_type": "markdown",
   "metadata": {},
   "source": [
    "[Udacity's home page](https://www.udacity.com)"
   ]
  },
  {
   "cell_type": "markdown",
   "metadata": {},
   "source": [
    "### Italic:\n",
    "\n",
    "*Hello*\n",
    "_Hello_\n",
    "\n",
    "`string.punctuation`\n",
    "\n",
    "### Bold:\n",
    "\n",
    "**Hello**\n",
    "__Hello**\n",
    "\n",
    "### Code Block\n",
    "\n",
    "```\n",
    "import requests\n",
    "response = requests.get('https://www.udacity.com')\n",
    "```\n",
    "\n",
    "    import requests\n",
    "    response = requests.get('https://www.udacity.com')\n",
    "    \n",
    "    \n",
    "### Math Expression\n",
    "\n",
    "$$\n",
    "y = \\frac{a}{b+c}\n",
    "$$\n"
   ]
  },
  {
   "cell_type": "markdown",
   "metadata": {},
   "source": [
    "**_must_**\n",
    "\n",
    "\\* for certain very small values of awesome\n",
    "\n",
    "The sky above the port was the color of television, tuned to a dead channel.  \n",
    "It was a bright cold day in April, and the clocks were striking thirteen.\n",
    "\n",
    "\n",
    "\n",
    "I have eaten\\\n",
    "the plums\\\n",
    "that were in\\\n",
    "the icebox\n",
    "\n",
    "### Blockquote:\n",
    "\n",
    "The quote: \n",
    ">Somewhere, something incredible is waiting to be known \n",
    "\n",
    "has been ascribed to Carl Sagan.\n",
    "\n",
    "My favorite Miss Manners quotes:\n",
    "\n",
    ">Allowing an unimportant mistake to pass without comment is a wonderful social grace.\n",
    ">\n",
    ">Ideological differences are no excuse for rudeness.\n",
    "\n",
    "\n",
    "### Lists:\n",
    "\n",
    "Unordered lists can use either asterisks *, plus +, or hyphens - as list markers.\n",
    "Ordered lists use numbers followed by period . or right paren ).\n",
    "\n"
   ]
  },
  {
   "cell_type": "code",
   "execution_count": 9,
   "metadata": {},
   "outputs": [],
   "source": [
    "# Why use NumPy?\n",
    "import time\n",
    "import numpy as np\n",
    "x = np.random.random(100000000)"
   ]
  },
  {
   "cell_type": "code",
   "execution_count": 3,
   "metadata": {},
   "outputs": [
    {
     "name": "stdout",
     "output_type": "stream",
     "text": [
      "5.946194171905518\n"
     ]
    }
   ],
   "source": [
    "# Case 1\n",
    "start = time.time()\n",
    "sum(x) / len(x)\n",
    "print(time.time() - start)"
   ]
  },
  {
   "cell_type": "code",
   "execution_count": 4,
   "metadata": {},
   "outputs": [
    {
     "name": "stdout",
     "output_type": "stream",
     "text": [
      "0.11929059028625488\n"
     ]
    }
   ],
   "source": [
    "# Case 2\n",
    "start = time.time()\n",
    "np.mean(x)\n",
    "print(time.time() - start)"
   ]
  },
  {
   "cell_type": "code",
   "execution_count": 5,
   "metadata": {},
   "outputs": [
    {
     "data": {
      "text/plain": [
       "dtype('float64')"
      ]
     },
     "execution_count": 5,
     "metadata": {},
     "output_type": "execute_result"
    }
   ],
   "source": [
    "x.dtype"
   ]
  },
  {
   "cell_type": "code",
   "execution_count": 7,
   "metadata": {},
   "outputs": [
    {
     "data": {
      "text/plain": [
       "(100000000,)"
      ]
     },
     "execution_count": 7,
     "metadata": {},
     "output_type": "execute_result"
    }
   ],
   "source": [
    "x.shape"
   ]
  },
  {
   "cell_type": "code",
   "execution_count": 10,
   "metadata": {},
   "outputs": [
    {
     "name": "stdout",
     "output_type": "stream",
     "text": [
      "x =  [1 2 3 4 5]\n"
     ]
    }
   ],
   "source": [
    "## We create a 1D ndarray that contains only integers\n",
    "x = np.array([1, 2, 3, 4, 5])\n",
    "\n",
    "## Let's print the ndarray we just created using the print() command\n",
    "print('x = ', x)"
   ]
  },
  {
   "cell_type": "code",
   "execution_count": 12,
   "metadata": {},
   "outputs": [
    {
     "data": {
      "text/plain": [
       "1"
      ]
     },
     "execution_count": 12,
     "metadata": {},
     "output_type": "execute_result"
    }
   ],
   "source": [
    "x.ndim"
   ]
  },
  {
   "cell_type": "code",
   "execution_count": 13,
   "metadata": {},
   "outputs": [],
   "source": [
    "arr = np.array([[1, 2, 3], [4, 5, 6]])"
   ]
  },
  {
   "cell_type": "code",
   "execution_count": 14,
   "metadata": {},
   "outputs": [
    {
     "data": {
      "text/plain": [
       "2"
      ]
     },
     "execution_count": 14,
     "metadata": {},
     "output_type": "execute_result"
    }
   ],
   "source": [
    "arr.ndim"
   ]
  },
  {
   "cell_type": "code",
   "execution_count": 15,
   "metadata": {},
   "outputs": [],
   "source": [
    "x = np.random.random(100000000)"
   ]
  },
  {
   "cell_type": "code",
   "execution_count": 16,
   "metadata": {},
   "outputs": [
    {
     "data": {
      "text/plain": [
       "1"
      ]
     },
     "execution_count": 16,
     "metadata": {},
     "output_type": "execute_result"
    }
   ],
   "source": [
    "x.ndim"
   ]
  },
  {
   "cell_type": "code",
   "execution_count": 18,
   "metadata": {},
   "outputs": [
    {
     "data": {
      "text/plain": [
       "1"
      ]
     },
     "execution_count": 18,
     "metadata": {},
     "output_type": "execute_result"
    }
   ],
   "source": [
    "## 1-D array\n",
    "x = np.array([1, 2, 3])\n",
    "x.ndim"
   ]
  },
  {
   "cell_type": "code",
   "execution_count": 19,
   "metadata": {},
   "outputs": [
    {
     "data": {
      "text/plain": [
       "2"
      ]
     },
     "execution_count": 19,
     "metadata": {},
     "output_type": "execute_result"
    }
   ],
   "source": [
    "## 2-D array\n",
    "Y = np.array([[1,2,3],[4,5,6],[7,8,9], [10,11,12]])\n",
    "Y.ndim"
   ]
  },
  {
   "cell_type": "code",
   "execution_count": 20,
   "metadata": {},
   "outputs": [
    {
     "data": {
      "text/plain": [
       "3"
      ]
     },
     "execution_count": 20,
     "metadata": {},
     "output_type": "execute_result"
    }
   ],
   "source": [
    "## Here the`zeros()` is an inbuilt function that you'll study on the next page. \n",
    "## The tuple (2, 3, 4( passed as an argument represents the shape of the ndarray\n",
    "y = np.zeros((2, 3, 4))\n",
    "y.ndim"
   ]
  },
  {
   "cell_type": "code",
   "execution_count": 21,
   "metadata": {},
   "outputs": [
    {
     "name": "stdout",
     "output_type": "stream",
     "text": [
      "[[[0. 0. 0. 0.]\n",
      "  [0. 0. 0. 0.]\n",
      "  [0. 0. 0. 0.]]\n",
      "\n",
      " [[0. 0. 0. 0.]\n",
      "  [0. 0. 0. 0.]\n",
      "  [0. 0. 0. 0.]]]\n"
     ]
    }
   ],
   "source": [
    "print(y)"
   ]
  },
  {
   "cell_type": "code",
   "execution_count": 22,
   "metadata": {},
   "outputs": [
    {
     "name": "stdout",
     "output_type": "stream",
     "text": [
      "x =  [1 2 3 4 5]\n",
      "x has dimensions: (5,)\n",
      "x is an object of type: <class 'numpy.ndarray'>\n",
      "The elements in x are of type: int32\n"
     ]
    }
   ],
   "source": [
    "## We create a 1D ndarray that contains only integers\n",
    "x = np.array([1, 2, 3, 4, 5])\n",
    "\n",
    "## We print information about x\n",
    "print('x = ', x)\n",
    "print('x has dimensions:', x.shape)\n",
    "print('x is an object of type:', type(x))\n",
    "print('The elements in x are of type:', x.dtype)\n"
   ]
  },
  {
   "cell_type": "code",
   "execution_count": 23,
   "metadata": {},
   "outputs": [
    {
     "name": "stdout",
     "output_type": "stream",
     "text": [
      "x =  ['Hello' 'World']\n",
      "x has dimensions: (2,)\n",
      "x is an object of type: <class 'numpy.ndarray'>\n",
      "The elements in x are of type: <U5\n"
     ]
    }
   ],
   "source": [
    "## We create a rank 1 ndarray that only contains strings\n",
    "x = np.array(['Hello', 'World'])\n",
    "\n",
    "## We print information about x\n",
    "print('x = ', x)\n",
    "print('x has dimensions:', x.shape)\n",
    "print('x is an object of type:', type(x))\n",
    "print('The elements in x are of type:', x.dtype)"
   ]
  },
  {
   "cell_type": "code",
   "execution_count": 24,
   "metadata": {},
   "outputs": [
    {
     "name": "stdout",
     "output_type": "stream",
     "text": [
      "x =  ['1' '2' 'World']\n",
      "x has dimensions: (3,)\n",
      "x is an object of type: <class 'numpy.ndarray'>\n",
      "The elements in x are of type: <U11\n"
     ]
    }
   ],
   "source": [
    "## We create a rank 1 ndarray from a Python list that contains integers and strings\n",
    "x = np.array([1, 2, 'World'])\n",
    "\n",
    "## We print information about x\n",
    "print('x = ', x)\n",
    "print('x has dimensions:', x.shape)\n",
    "print('x is an object of type:', type(x))\n",
    "print('The elements in x are of type:', x.dtype)"
   ]
  },
  {
   "cell_type": "code",
   "execution_count": 25,
   "metadata": {},
   "outputs": [
    {
     "name": "stdout",
     "output_type": "stream",
     "text": [
      "The elements in x are of type: int32\n",
      "The elements in y are of type: float64\n",
      "The elements in z are of type: float64\n"
     ]
    }
   ],
   "source": [
    "## We create a rank 1 ndarray that contains integers\n",
    "x = np.array([1,2,3])\n",
    "\n",
    "## We create a rank 1 ndarray that contains floats\n",
    "y = np.array([1.0,2.0,3.0])\n",
    "\n",
    "## We create a rank 1 ndarray that contains integers and floats\n",
    "z = np.array([1, 2.5, 4])\n",
    "\n",
    "## We print the dtype of each ndarray\n",
    "print('The elements in x are of type:', x.dtype)\n",
    "print('The elements in y are of type:', y.dtype)\n",
    "print('The elements in z are of type:', z.dtype)\n"
   ]
  },
  {
   "cell_type": "code",
   "execution_count": 26,
   "metadata": {},
   "outputs": [
    {
     "name": "stdout",
     "output_type": "stream",
     "text": [
      "Y = \n",
      " [[ 1  2  3]\n",
      " [ 4  5  6]\n",
      " [ 7  8  9]\n",
      " [10 11 12]]\n",
      "Y has dimensions: (4, 3)\n",
      "Y has a total of 12 elements\n",
      "Y is an object of type: <class 'numpy.ndarray'>\n",
      "The elements in Y are of type: int32\n"
     ]
    }
   ],
   "source": [
    "## We create a rank 2 ndarray that only contains integers\n",
    "Y = np.array([[1,2,3],[4,5,6],[7,8,9], [10,11,12]])\n",
    "\n",
    "print('Y = \\n', Y)\n",
    "\n",
    "## We print information about Y\n",
    "print('Y has dimensions:', Y.shape)\n",
    "print('Y has a total of', Y.size, 'elements')\n",
    "print('Y is an object of type:', type(Y))\n",
    "print('The elements in Y are of type:', Y.dtype)\n"
   ]
  },
  {
   "cell_type": "code",
   "execution_count": 27,
   "metadata": {},
   "outputs": [],
   "source": [
    "## We create a rank 1 ndarray\n",
    "x = np.array([1, 2, 3, 4, 5])\n",
    "\n",
    "## We save x into the current directory as \n",
    "np.save('my_array', x)"
   ]
  },
  {
   "cell_type": "code",
   "execution_count": 28,
   "metadata": {},
   "outputs": [
    {
     "data": {
      "text/plain": [
       "array([1, 2, 3, 4, 5])"
      ]
     },
     "execution_count": 28,
     "metadata": {},
     "output_type": "execute_result"
    }
   ],
   "source": [
    "x"
   ]
  },
  {
   "cell_type": "code",
   "execution_count": 29,
   "metadata": {},
   "outputs": [
    {
     "name": "stdout",
     "output_type": "stream",
     "text": [
      "\n",
      "y =  [1 2 3 4 5]\n",
      "\n",
      "y is an object of type: <class 'numpy.ndarray'>\n",
      "The elements in y are of type: int32\n"
     ]
    }
   ],
   "source": [
    "## We load the saved array from our current directory into variable y\n",
    "y = np.load('my_array.npy')\n",
    "\n",
    "## We print y\n",
    "print()\n",
    "print('y = ', y)\n",
    "print()\n",
    "\n",
    "## We print information about the ndarray we loaded\n",
    "print('y is an object of type:', type(y))\n",
    "print('The elements in y are of type:', y.dtype)"
   ]
  },
  {
   "cell_type": "code",
   "execution_count": 1,
   "metadata": {},
   "outputs": [],
   "source": [
    "import plotly.express as px"
   ]
  },
  {
   "cell_type": "code",
   "execution_count": null,
   "metadata": {},
   "outputs": [],
   "source": []
  }
 ],
 "metadata": {
  "kernelspec": {
   "display_name": "Python 3 (ipykernel)",
   "language": "python",
   "name": "python3"
  },
  "language_info": {
   "codemirror_mode": {
    "name": "ipython",
    "version": 3
   },
   "file_extension": ".py",
   "mimetype": "text/x-python",
   "name": "python",
   "nbconvert_exporter": "python",
   "pygments_lexer": "ipython3",
   "version": "3.9.13"
  }
 },
 "nbformat": 4,
 "nbformat_minor": 2
}
